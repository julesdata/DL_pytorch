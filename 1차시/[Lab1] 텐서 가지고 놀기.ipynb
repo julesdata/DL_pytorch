{
 "cells": [
  {
   "cell_type": "code",
   "execution_count": 1,
   "metadata": {},
   "outputs": [],
   "source": [
    "import torch"
   ]
  },
  {
   "cell_type": "markdown",
   "metadata": {},
   "source": [
    "### 초기화를 하지 않은 비어있는 8x4 matrix를 만들어 보세요"
   ]
  },
  {
   "cell_type": "markdown",
   "metadata": {},
   "source": [
    "* 0차원 tensor ->스칼라\n",
    "* 1차원 tensor -> 벡터\n",
    "* 2차원 tensor -> 행렬\n",
    "* 3차원 이상의 tensor -> tensor"
   ]
  },
  {
   "cell_type": "code",
   "execution_count": 2,
   "metadata": {},
   "outputs": [],
   "source": [
    "x = torch.empty(8, 4)"
   ]
  },
  {
   "cell_type": "code",
   "execution_count": 3,
   "metadata": {},
   "outputs": [
    {
     "data": {
      "text/plain": [
       "tensor([[4.3605e+27, 2.8929e+12, 7.5338e+28, 1.8037e+28],\n",
       "        [3.4740e-12, 1.7743e+28, 6.8239e+16, 1.8832e+34],\n",
       "        [1.6078e+19, 4.4721e+21, 5.0789e-11, 4.4721e+21],\n",
       "        [1.0986e+27, 7.1854e+22, 3.0573e+32, 1.8469e+25],\n",
       "        [5.1931e-11, 7.0367e+22, 2.4032e+20, 1.6928e+22],\n",
       "        [2.7945e+20, 2.2419e+20, 3.2532e+33, 3.3028e-12],\n",
       "        [7.0789e+31, 4.2964e+24, 5.5261e+31, 4.2964e+24],\n",
       "        [2.7254e+20, 1.8179e+31, 2.8298e+20, 3.0304e+35]])"
      ]
     },
     "execution_count": 3,
     "metadata": {},
     "output_type": "execute_result"
    }
   ],
   "source": [
    "x"
   ]
  },
  {
   "cell_type": "code",
   "execution_count": 4,
   "metadata": {},
   "outputs": [
    {
     "data": {
      "text/plain": [
       "torch.Size([8, 4])"
      ]
     },
     "execution_count": 4,
     "metadata": {},
     "output_type": "execute_result"
    }
   ],
   "source": [
    "# 모델적합을 위해서는 shape이 항상 일치해야 한다!!\n",
    "x.shape"
   ]
  },
  {
   "cell_type": "code",
   "execution_count": 7,
   "metadata": {},
   "outputs": [
    {
     "name": "stdout",
     "output_type": "stream",
     "text": [
      "torch.Size([8, 4])\n"
     ]
    }
   ],
   "source": [
    "x = torch.empty(8, 4)\n",
    "print(x.shape)"
   ]
  },
  {
   "cell_type": "markdown",
   "metadata": {},
   "source": [
    "# Note\n",
    "\n",
    "torch.empty를 하면 값이 들어있지만 명시적인 값을 포함하지는 않는다. \\\n",
    "즉 당시 메모리에 할당되어 있던 값들이 들어가게 된다."
   ]
  },
  {
   "cell_type": "markdown",
   "metadata": {},
   "source": [
    "### 평균 5 표준편차 0.5로 초기화된 8x4 matrix를 만들어 보세요"
   ]
  },
  {
   "cell_type": "code",
   "execution_count": 5,
   "metadata": {},
   "outputs": [],
   "source": [
    "x = torch.empty(8, 4).normal_(mean=5, std=0.5)"
   ]
  },
  {
   "cell_type": "code",
   "execution_count": 6,
   "metadata": {},
   "outputs": [
    {
     "data": {
      "text/plain": [
       "tensor([[4.7317, 4.7117, 4.5527, 5.4106],\n",
       "        [6.1155, 5.4097, 5.1221, 4.2066],\n",
       "        [4.8529, 5.1549, 5.3147, 5.1168],\n",
       "        [4.8639, 5.7549, 5.4544, 4.7071],\n",
       "        [5.0236, 4.5912, 5.0404, 5.8637],\n",
       "        [4.9814, 5.5602, 5.1657, 5.3097],\n",
       "        [6.2705, 5.3591, 4.6577, 5.2908],\n",
       "        [4.9673, 5.0176, 5.5805, 4.9856]])"
      ]
     },
     "execution_count": 6,
     "metadata": {},
     "output_type": "execute_result"
    }
   ],
   "source": [
    "x"
   ]
  },
  {
   "cell_type": "markdown",
   "metadata": {},
   "source": [
    "### 평균 0 표준편차 1로 초기화된 8x4 matrix를 만들어 보세요"
   ]
  },
  {
   "cell_type": "code",
   "execution_count": 7,
   "metadata": {},
   "outputs": [],
   "source": [
    "x = torch.empty(8, 4).normal_(mean=0, std=1)"
   ]
  },
  {
   "cell_type": "code",
   "execution_count": 8,
   "metadata": {},
   "outputs": [
    {
     "data": {
      "text/plain": [
       "tensor([[ 0.9341,  2.5844, -0.2361,  2.0010],\n",
       "        [ 1.5643,  1.3515, -0.3262, -0.5250],\n",
       "        [-0.9222,  1.0447, -1.9804, -0.0432],\n",
       "        [-0.5308,  1.8350, -1.6567, -0.4867],\n",
       "        [-1.0944,  0.8875, -0.5578,  0.3529],\n",
       "        [-1.1808, -0.8458,  0.0112,  1.1103],\n",
       "        [-1.6412,  1.1641,  2.7048, -0.7060],\n",
       "        [ 0.4977, -0.6626, -0.0212,  0.3857]])"
      ]
     },
     "execution_count": 8,
     "metadata": {},
     "output_type": "execute_result"
    }
   ],
   "source": [
    "x"
   ]
  },
  {
   "cell_type": "markdown",
   "metadata": {},
   "source": [
    "### 0으로 초기화된 5x5 matrix를 만들어 보세요"
   ]
  },
  {
   "cell_type": "code",
   "execution_count": 10,
   "metadata": {},
   "outputs": [],
   "source": [
    "x = torch.zeros(5, 5)"
   ]
  },
  {
   "cell_type": "code",
   "execution_count": 11,
   "metadata": {},
   "outputs": [
    {
     "data": {
      "text/plain": [
       "tensor([[0., 0., 0., 0., 0.],\n",
       "        [0., 0., 0., 0., 0.],\n",
       "        [0., 0., 0., 0., 0.],\n",
       "        [0., 0., 0., 0., 0.],\n",
       "        [0., 0., 0., 0., 0.]])"
      ]
     },
     "execution_count": 11,
     "metadata": {},
     "output_type": "execute_result"
    }
   ],
   "source": [
    "x"
   ]
  },
  {
   "cell_type": "markdown",
   "metadata": {},
   "source": [
    "### list [[2,3],[4,4]]를 tensor로 변경해 보세요"
   ]
  },
  {
   "cell_type": "code",
   "execution_count": 12,
   "metadata": {},
   "outputs": [],
   "source": [
    "x = list([[2, 3], [4, 4]])"
   ]
  },
  {
   "cell_type": "code",
   "execution_count": 13,
   "metadata": {},
   "outputs": [
    {
     "data": {
      "text/plain": [
       "list"
      ]
     },
     "execution_count": 13,
     "metadata": {},
     "output_type": "execute_result"
    }
   ],
   "source": [
    "type(x)"
   ]
  },
  {
   "cell_type": "code",
   "execution_count": 14,
   "metadata": {},
   "outputs": [
    {
     "data": {
      "text/plain": [
       "tensor([[2, 3],\n",
       "        [4, 4]])"
      ]
     },
     "execution_count": 14,
     "metadata": {},
     "output_type": "execute_result"
    }
   ],
   "source": [
    "# torch는 tensor 타입만 취급하기 때문에, 데이터 타입을 변환해줘야 한다. \n",
    "torch.tensor(x)"
   ]
  },
  {
   "cell_type": "markdown",
   "metadata": {},
   "source": [
    "### 1로 초기화된 7x4 matrix를 만들어 보세요"
   ]
  },
  {
   "cell_type": "code",
   "execution_count": 15,
   "metadata": {},
   "outputs": [
    {
     "data": {
      "text/plain": [
       "tensor([[1., 1., 1., 1.],\n",
       "        [1., 1., 1., 1.],\n",
       "        [1., 1., 1., 1.],\n",
       "        [1., 1., 1., 1.],\n",
       "        [1., 1., 1., 1.],\n",
       "        [1., 1., 1., 1.],\n",
       "        [1., 1., 1., 1.]])"
      ]
     },
     "execution_count": 15,
     "metadata": {},
     "output_type": "execute_result"
    }
   ],
   "source": [
    "torch.ones(7, 4)"
   ]
  },
  {
   "cell_type": "code",
   "execution_count": 16,
   "metadata": {},
   "outputs": [
    {
     "data": {
      "text/plain": [
       "torch.Size([7, 4])"
      ]
     },
     "execution_count": 16,
     "metadata": {},
     "output_type": "execute_result"
    }
   ],
   "source": [
    "torch.ones(7, 4).shape"
   ]
  },
  {
   "cell_type": "markdown",
   "metadata": {},
   "source": [
    "### torch.randn을 이용하여 float 타입의 5x5 matrix를 만들어 보세요"
   ]
  },
  {
   "cell_type": "code",
   "execution_count": 28,
   "metadata": {},
   "outputs": [
    {
     "data": {
      "text/plain": [
       "tensor([[ 0.7283, -0.6850,  1.0123,  0.2610,  0.2827],\n",
       "        [ 1.7916, -1.3757,  1.3418, -0.8880, -0.5186],\n",
       "        [ 0.4152,  2.7761,  0.6996,  0.6585, -2.3380],\n",
       "        [-1.3558, -0.2795, -0.1288, -2.2340,  0.6398],\n",
       "        [ 0.0163, -0.6967,  2.5402, -0.1937,  1.5511]])"
      ]
     },
     "execution_count": 28,
     "metadata": {},
     "output_type": "execute_result"
    }
   ],
   "source": [
    "#torch는 float만 취급한다. int, long, double 모두 안됌\n",
    "x = torch.randn(5, 5, dtype=torch.float)\n",
    "x"
   ]
  },
  {
   "cell_type": "markdown",
   "metadata": {},
   "source": [
    "### torch.ones를 이용하여 long 타입의 5x5 mtrix를 만들어 보세요"
   ]
  },
  {
   "cell_type": "code",
   "execution_count": 31,
   "metadata": {},
   "outputs": [
    {
     "data": {
      "text/plain": [
       "tensor([[1, 1, 1, 1, 1],\n",
       "        [1, 1, 1, 1, 1],\n",
       "        [1, 1, 1, 1, 1],\n",
       "        [1, 1, 1, 1, 1],\n",
       "        [1, 1, 1, 1, 1]])"
      ]
     },
     "execution_count": 31,
     "metadata": {},
     "output_type": "execute_result"
    }
   ],
   "source": [
    "x = torch.ones(5, 5, dtype=torch.long)\n",
    "x"
   ]
  },
  {
   "cell_type": "markdown",
   "metadata": {},
   "source": [
    "### torch.randn을 이용하여 [100, 50] 2차원 matrix를 만들어 보세요"
   ]
  },
  {
   "cell_type": "code",
   "execution_count": 31,
   "metadata": {},
   "outputs": [
    {
     "name": "stdout",
     "output_type": "stream",
     "text": [
      "torch.Size([100, 50])\n"
     ]
    }
   ],
   "source": [
    "x = torch.randn(100, 50)\n",
    "print(x.shape)"
   ]
  },
  {
   "cell_type": "markdown",
   "metadata": {},
   "source": [
    "### torch.randn를 이용하여 [100, 50, 20] 3차원 matrix를 만들어 보세요"
   ]
  },
  {
   "cell_type": "code",
   "execution_count": 33,
   "metadata": {},
   "outputs": [
    {
     "data": {
      "text/plain": [
       "tensor([[[ 0.3012, -0.8910],\n",
       "         [-1.0801, -0.8148]],\n",
       "\n",
       "        [[-0.1711, -0.6487],\n",
       "         [-0.7736,  0.2895]],\n",
       "\n",
       "        [[-1.1005,  1.3717],\n",
       "         [ 1.1470,  0.2506]]])"
      ]
     },
     "execution_count": 33,
     "metadata": {},
     "output_type": "execute_result"
    }
   ],
   "source": [
    "# 3차원 행렬 만들기\n",
    "x = torch.randn(3, 2, 2)\n",
    "x"
   ]
  },
  {
   "cell_type": "code",
   "execution_count": 34,
   "metadata": {},
   "outputs": [
    {
     "data": {
      "text/plain": [
       "torch.Size([100, 50, 20])"
      ]
     },
     "execution_count": 34,
     "metadata": {},
     "output_type": "execute_result"
    }
   ],
   "source": [
    "x = torch.randn(100, 50, 20)\n",
    "x.shape"
   ]
  },
  {
   "cell_type": "markdown",
   "metadata": {},
   "source": [
    "### 3차원 matrix에서 추출하기 "
   ]
  },
  {
   "cell_type": "code",
   "execution_count": 40,
   "metadata": {},
   "outputs": [
    {
     "data": {
      "text/plain": [
       "tensor([[[-1.1112,  1.1703,  1.8353,  0.2039],\n",
       "         [ 0.3903,  0.5606,  0.7624,  0.6162],\n",
       "         [-0.0652, -0.6258, -0.7829,  0.6840]],\n",
       "\n",
       "        [[ 0.5900, -0.6210, -1.1714, -0.4617],\n",
       "         [-0.0266,  1.1966, -1.0932,  1.3712],\n",
       "         [-0.5647, -0.3026, -0.0887,  1.6086]]])"
      ]
     },
     "execution_count": 40,
     "metadata": {},
     "output_type": "execute_result"
    }
   ],
   "source": [
    "x = torch.randn(2, 3, 4)\n",
    "x[:,:,:]"
   ]
  },
  {
   "cell_type": "code",
   "execution_count": 41,
   "metadata": {},
   "outputs": [
    {
     "data": {
      "text/plain": [
       "tensor([[-1.1112,  1.1703,  1.8353,  0.2039],\n",
       "        [ 0.3903,  0.5606,  0.7624,  0.6162],\n",
       "        [-0.0652, -0.6258, -0.7829,  0.6840]])"
      ]
     },
     "execution_count": 41,
     "metadata": {},
     "output_type": "execute_result"
    }
   ],
   "source": [
    "x[0,:,:]  # 3 by 4"
   ]
  },
  {
   "cell_type": "code",
   "execution_count": 42,
   "metadata": {},
   "outputs": [
    {
     "data": {
      "text/plain": [
       "tensor([[-1.1112,  1.1703,  1.8353,  0.2039],\n",
       "        [ 0.5900, -0.6210, -1.1714, -0.4617]])"
      ]
     },
     "execution_count": 42,
     "metadata": {},
     "output_type": "execute_result"
    }
   ],
   "source": [
    "x[:,0,:] # 2 by 4"
   ]
  },
  {
   "cell_type": "code",
   "execution_count": 43,
   "metadata": {},
   "outputs": [
    {
     "data": {
      "text/plain": [
       "tensor([[-1.1112,  0.3903, -0.0652],\n",
       "        [ 0.5900, -0.0266, -0.5647]])"
      ]
     },
     "execution_count": 43,
     "metadata": {},
     "output_type": "execute_result"
    }
   ],
   "source": [
    "x[:,:,0] # 2 by 3"
   ]
  },
  {
   "cell_type": "code",
   "execution_count": 44,
   "metadata": {},
   "outputs": [
    {
     "data": {
      "text/plain": [
       "torch.Size([100, 50, 20])"
      ]
     },
     "execution_count": 44,
     "metadata": {},
     "output_type": "execute_result"
    }
   ],
   "source": [
    "x = torch.randn(100, 50, 20)\n",
    "x.shape"
   ]
  },
  {
   "cell_type": "markdown",
   "metadata": {},
   "source": [
    "### 위에서 만든 [100,50,20] matrix로 for문을 이용하여 [100, 20] matrix 50개를 출력해 보세요"
   ]
  },
  {
   "cell_type": "code",
   "execution_count": 45,
   "metadata": {},
   "outputs": [
    {
     "name": "stdout",
     "output_type": "stream",
     "text": [
      "torch.Size([100, 20])\n",
      "torch.Size([100, 20])\n",
      "torch.Size([100, 20])\n",
      "torch.Size([100, 20])\n",
      "torch.Size([100, 20])\n",
      "torch.Size([100, 20])\n",
      "torch.Size([100, 20])\n",
      "torch.Size([100, 20])\n",
      "torch.Size([100, 20])\n",
      "torch.Size([100, 20])\n",
      "torch.Size([100, 20])\n",
      "torch.Size([100, 20])\n",
      "torch.Size([100, 20])\n",
      "torch.Size([100, 20])\n",
      "torch.Size([100, 20])\n",
      "torch.Size([100, 20])\n",
      "torch.Size([100, 20])\n",
      "torch.Size([100, 20])\n",
      "torch.Size([100, 20])\n",
      "torch.Size([100, 20])\n",
      "torch.Size([100, 20])\n",
      "torch.Size([100, 20])\n",
      "torch.Size([100, 20])\n",
      "torch.Size([100, 20])\n",
      "torch.Size([100, 20])\n",
      "torch.Size([100, 20])\n",
      "torch.Size([100, 20])\n",
      "torch.Size([100, 20])\n",
      "torch.Size([100, 20])\n",
      "torch.Size([100, 20])\n",
      "torch.Size([100, 20])\n",
      "torch.Size([100, 20])\n",
      "torch.Size([100, 20])\n",
      "torch.Size([100, 20])\n",
      "torch.Size([100, 20])\n",
      "torch.Size([100, 20])\n",
      "torch.Size([100, 20])\n",
      "torch.Size([100, 20])\n",
      "torch.Size([100, 20])\n",
      "torch.Size([100, 20])\n",
      "torch.Size([100, 20])\n",
      "torch.Size([100, 20])\n",
      "torch.Size([100, 20])\n",
      "torch.Size([100, 20])\n",
      "torch.Size([100, 20])\n",
      "torch.Size([100, 20])\n",
      "torch.Size([100, 20])\n",
      "torch.Size([100, 20])\n",
      "torch.Size([100, 20])\n",
      "torch.Size([100, 20])\n"
     ]
    }
   ],
   "source": [
    "for i in range(x.shape[1]):\n",
    "    print(x[:,i,:].shape)"
   ]
  },
  {
   "cell_type": "markdown",
   "metadata": {},
   "source": [
    "### 위에서 만든 [100,50,20]로 for문을 이용하여 [50, 20] matrix 100개를 출력해 보세요"
   ]
  },
  {
   "cell_type": "code",
   "execution_count": 46,
   "metadata": {
    "scrolled": true
   },
   "outputs": [
    {
     "name": "stdout",
     "output_type": "stream",
     "text": [
      "torch.Size([50, 20])\n",
      "torch.Size([50, 20])\n",
      "torch.Size([50, 20])\n",
      "torch.Size([50, 20])\n",
      "torch.Size([50, 20])\n",
      "torch.Size([50, 20])\n",
      "torch.Size([50, 20])\n",
      "torch.Size([50, 20])\n",
      "torch.Size([50, 20])\n",
      "torch.Size([50, 20])\n",
      "torch.Size([50, 20])\n",
      "torch.Size([50, 20])\n",
      "torch.Size([50, 20])\n",
      "torch.Size([50, 20])\n",
      "torch.Size([50, 20])\n",
      "torch.Size([50, 20])\n",
      "torch.Size([50, 20])\n",
      "torch.Size([50, 20])\n",
      "torch.Size([50, 20])\n",
      "torch.Size([50, 20])\n",
      "torch.Size([50, 20])\n",
      "torch.Size([50, 20])\n",
      "torch.Size([50, 20])\n",
      "torch.Size([50, 20])\n",
      "torch.Size([50, 20])\n",
      "torch.Size([50, 20])\n",
      "torch.Size([50, 20])\n",
      "torch.Size([50, 20])\n",
      "torch.Size([50, 20])\n",
      "torch.Size([50, 20])\n",
      "torch.Size([50, 20])\n",
      "torch.Size([50, 20])\n",
      "torch.Size([50, 20])\n",
      "torch.Size([50, 20])\n",
      "torch.Size([50, 20])\n",
      "torch.Size([50, 20])\n",
      "torch.Size([50, 20])\n",
      "torch.Size([50, 20])\n",
      "torch.Size([50, 20])\n",
      "torch.Size([50, 20])\n",
      "torch.Size([50, 20])\n",
      "torch.Size([50, 20])\n",
      "torch.Size([50, 20])\n",
      "torch.Size([50, 20])\n",
      "torch.Size([50, 20])\n",
      "torch.Size([50, 20])\n",
      "torch.Size([50, 20])\n",
      "torch.Size([50, 20])\n",
      "torch.Size([50, 20])\n",
      "torch.Size([50, 20])\n",
      "torch.Size([50, 20])\n",
      "torch.Size([50, 20])\n",
      "torch.Size([50, 20])\n",
      "torch.Size([50, 20])\n",
      "torch.Size([50, 20])\n",
      "torch.Size([50, 20])\n",
      "torch.Size([50, 20])\n",
      "torch.Size([50, 20])\n",
      "torch.Size([50, 20])\n",
      "torch.Size([50, 20])\n",
      "torch.Size([50, 20])\n",
      "torch.Size([50, 20])\n",
      "torch.Size([50, 20])\n",
      "torch.Size([50, 20])\n",
      "torch.Size([50, 20])\n",
      "torch.Size([50, 20])\n",
      "torch.Size([50, 20])\n",
      "torch.Size([50, 20])\n",
      "torch.Size([50, 20])\n",
      "torch.Size([50, 20])\n",
      "torch.Size([50, 20])\n",
      "torch.Size([50, 20])\n",
      "torch.Size([50, 20])\n",
      "torch.Size([50, 20])\n",
      "torch.Size([50, 20])\n",
      "torch.Size([50, 20])\n",
      "torch.Size([50, 20])\n",
      "torch.Size([50, 20])\n",
      "torch.Size([50, 20])\n",
      "torch.Size([50, 20])\n",
      "torch.Size([50, 20])\n",
      "torch.Size([50, 20])\n",
      "torch.Size([50, 20])\n",
      "torch.Size([50, 20])\n",
      "torch.Size([50, 20])\n",
      "torch.Size([50, 20])\n",
      "torch.Size([50, 20])\n",
      "torch.Size([50, 20])\n",
      "torch.Size([50, 20])\n",
      "torch.Size([50, 20])\n",
      "torch.Size([50, 20])\n",
      "torch.Size([50, 20])\n",
      "torch.Size([50, 20])\n",
      "torch.Size([50, 20])\n",
      "torch.Size([50, 20])\n",
      "torch.Size([50, 20])\n",
      "torch.Size([50, 20])\n",
      "torch.Size([50, 20])\n",
      "torch.Size([50, 20])\n",
      "torch.Size([50, 20])\n"
     ]
    }
   ],
   "source": [
    "for i in range(x.shape[0]):\n",
    "    print(x[i,:,:].shape)"
   ]
  },
  {
   "cell_type": "markdown",
   "metadata": {},
   "source": [
    "### 위에서 만든 [100,50,20]로 for문을 이용하여 [100, 50] matrix 20개를 출력해 보세요"
   ]
  },
  {
   "cell_type": "code",
   "execution_count": 47,
   "metadata": {},
   "outputs": [
    {
     "name": "stdout",
     "output_type": "stream",
     "text": [
      "torch.Size([100, 50])\n",
      "torch.Size([100, 50])\n",
      "torch.Size([100, 50])\n",
      "torch.Size([100, 50])\n",
      "torch.Size([100, 50])\n",
      "torch.Size([100, 50])\n",
      "torch.Size([100, 50])\n",
      "torch.Size([100, 50])\n",
      "torch.Size([100, 50])\n",
      "torch.Size([100, 50])\n",
      "torch.Size([100, 50])\n",
      "torch.Size([100, 50])\n",
      "torch.Size([100, 50])\n",
      "torch.Size([100, 50])\n",
      "torch.Size([100, 50])\n",
      "torch.Size([100, 50])\n",
      "torch.Size([100, 50])\n",
      "torch.Size([100, 50])\n",
      "torch.Size([100, 50])\n",
      "torch.Size([100, 50])\n"
     ]
    }
   ],
   "source": [
    "for i in range(x.shape[2]):\n",
    "    print(x[:,:,i].shape)"
   ]
  },
  {
   "cell_type": "markdown",
   "metadata": {},
   "source": [
    "### [30, 20] matrx를 만든 후 torch.randn_like를 이용하여 같은 shape의 matrix를 만들어 보세요"
   ]
  },
  {
   "cell_type": "code",
   "execution_count": 48,
   "metadata": {},
   "outputs": [],
   "source": [
    "x = torch.randn(30, 20)"
   ]
  },
  {
   "cell_type": "code",
   "execution_count": 49,
   "metadata": {},
   "outputs": [
    {
     "name": "stdout",
     "output_type": "stream",
     "text": [
      "torch.Size([30, 20])\n"
     ]
    }
   ],
   "source": [
    "y = torch.randn_like(x)\n",
    "print(y.shape)"
   ]
  },
  {
   "cell_type": "markdown",
   "metadata": {},
   "source": [
    "# operations"
   ]
  },
  {
   "cell_type": "code",
   "execution_count": 50,
   "metadata": {},
   "outputs": [],
   "source": [
    "x = torch.randn(5, 3)\n",
    "y = torch.randn(5, 3)"
   ]
  },
  {
   "cell_type": "code",
   "execution_count": 51,
   "metadata": {},
   "outputs": [
    {
     "data": {
      "text/plain": [
       "(torch.Size([5, 3]), torch.Size([5, 3]))"
      ]
     },
     "execution_count": 51,
     "metadata": {},
     "output_type": "execute_result"
    }
   ],
   "source": [
    "x.shape, y.shape"
   ]
  },
  {
   "cell_type": "markdown",
   "metadata": {},
   "source": [
    "**case 1**"
   ]
  },
  {
   "cell_type": "code",
   "execution_count": 52,
   "metadata": {},
   "outputs": [
    {
     "name": "stdout",
     "output_type": "stream",
     "text": [
      "tensor([[ 2.5752,  2.5724,  1.5394],\n",
      "        [ 3.5473,  0.4667,  0.1941],\n",
      "        [-0.5124,  0.4713,  0.9906],\n",
      "        [ 1.0779,  1.3367, -0.8016],\n",
      "        [ 0.4544, -0.3842, -0.6615]])\n"
     ]
    }
   ],
   "source": [
    "z = x + y\n",
    "print(z)"
   ]
  },
  {
   "cell_type": "markdown",
   "metadata": {},
   "source": [
    "**case 2**"
   ]
  },
  {
   "cell_type": "code",
   "execution_count": 53,
   "metadata": {},
   "outputs": [
    {
     "name": "stdout",
     "output_type": "stream",
     "text": [
      "tensor([[ 2.5752,  2.5724,  1.5394],\n",
      "        [ 3.5473,  0.4667,  0.1941],\n",
      "        [-0.5124,  0.4713,  0.9906],\n",
      "        [ 1.0779,  1.3367, -0.8016],\n",
      "        [ 0.4544, -0.3842, -0.6615]])\n"
     ]
    }
   ],
   "source": [
    "z = torch.add(x, y)\n",
    "print(z)"
   ]
  },
  {
   "cell_type": "markdown",
   "metadata": {},
   "source": [
    "**case 3**"
   ]
  },
  {
   "cell_type": "code",
   "execution_count": 54,
   "metadata": {},
   "outputs": [
    {
     "data": {
      "text/plain": [
       "tensor([[ 2.5752,  2.5724,  1.5394],\n",
       "        [ 3.5473,  0.4667,  0.1941],\n",
       "        [-0.5124,  0.4713,  0.9906],\n",
       "        [ 1.0779,  1.3367, -0.8016],\n",
       "        [ 0.4544, -0.3842, -0.6615]])"
      ]
     },
     "execution_count": 54,
     "metadata": {},
     "output_type": "execute_result"
    }
   ],
   "source": [
    "z = torch.empty(5, 3)\n",
    "torch.add(x, y, out=z)"
   ]
  },
  {
   "cell_type": "code",
   "execution_count": 55,
   "metadata": {},
   "outputs": [
    {
     "name": "stdout",
     "output_type": "stream",
     "text": [
      "tensor([[ 2.5752,  2.5724,  1.5394],\n",
      "        [ 3.5473,  0.4667,  0.1941],\n",
      "        [-0.5124,  0.4713,  0.9906],\n",
      "        [ 1.0779,  1.3367, -0.8016],\n",
      "        [ 0.4544, -0.3842, -0.6615]])\n"
     ]
    }
   ],
   "source": [
    "z = torch.empty(5, 3)\n",
    "torch.add(x, y, out=z)\n",
    "print(z)"
   ]
  },
  {
   "cell_type": "markdown",
   "metadata": {},
   "source": [
    "# Numpy Bridge"
   ]
  },
  {
   "cell_type": "markdown",
   "metadata": {},
   "source": [
    "개, 고양이 분류모델을 만들었어 -> 정확도를 측정해야해 -> sklearn(acc) -> numpy만 호환"
   ]
  },
  {
   "cell_type": "code",
   "execution_count": 56,
   "metadata": {},
   "outputs": [
    {
     "name": "stdout",
     "output_type": "stream",
     "text": [
      "torch.Size([3, 4])\n"
     ]
    }
   ],
   "source": [
    "a = torch.randn(3, 4)\n",
    "print(a.shape)"
   ]
  },
  {
   "cell_type": "code",
   "execution_count": 57,
   "metadata": {},
   "outputs": [
    {
     "data": {
      "text/plain": [
       "array([[ 0.23670216, -0.54023826, -1.2748332 ,  0.67057276],\n",
       "       [ 0.26735023, -2.0626948 ,  0.48189408,  1.1657482 ],\n",
       "       [-0.8551174 ,  1.2571824 ,  0.79714423,  0.15328515]],\n",
       "      dtype=float32)"
      ]
     },
     "execution_count": 57,
     "metadata": {},
     "output_type": "execute_result"
    }
   ],
   "source": [
    "a.numpy()"
   ]
  },
  {
   "cell_type": "code",
   "execution_count": 58,
   "metadata": {},
   "outputs": [
    {
     "data": {
      "text/plain": [
       "tensor([[ 0.2367, -0.5402, -1.2748,  0.6706],\n",
       "        [ 0.2674, -2.0627,  0.4819,  1.1657],\n",
       "        [-0.8551,  1.2572,  0.7971,  0.1533]])"
      ]
     },
     "execution_count": 58,
     "metadata": {},
     "output_type": "execute_result"
    }
   ],
   "source": [
    "torch.tensor(a.numpy())"
   ]
  },
  {
   "cell_type": "markdown",
   "metadata": {},
   "source": [
    "# CUDA 사용하기\n",
    "\n",
    "GPU를 이용하여 딥러닝을 학습하기 위해서는 데이터를 GPU로 전송해줘야 한다. \\\n",
    "pytorch에서는 간다하게 GPU연산을 할 수 있도록 함수를 제공해준다."
   ]
  },
  {
   "cell_type": "code",
   "execution_count": 59,
   "metadata": {},
   "outputs": [
    {
     "data": {
      "text/plain": [
       "False"
      ]
     },
     "execution_count": 59,
     "metadata": {},
     "output_type": "execute_result"
    }
   ],
   "source": [
    "torch.cuda.is_available()"
   ]
  },
  {
   "cell_type": "code",
   "execution_count": 60,
   "metadata": {},
   "outputs": [],
   "source": [
    "device = torch.device('cuda')"
   ]
  },
  {
   "cell_type": "code",
   "execution_count": 61,
   "metadata": {},
   "outputs": [],
   "source": [
    "x = torch.randn(3, 4)"
   ]
  },
  {
   "cell_type": "code",
   "execution_count": 62,
   "metadata": {},
   "outputs": [
    {
     "ename": "RuntimeError",
     "evalue": "Found no NVIDIA driver on your system. Please check that you have an NVIDIA GPU and installed a driver from http://www.nvidia.com/Download/index.aspx",
     "output_type": "error",
     "traceback": [
      "\u001b[1;31m---------------------------------------------------------------------------\u001b[0m",
      "\u001b[1;31mRuntimeError\u001b[0m                              Traceback (most recent call last)",
      "\u001b[1;32m<ipython-input-62-9946387c42b7>\u001b[0m in \u001b[0;36m<module>\u001b[1;34m\u001b[0m\n\u001b[1;32m----> 1\u001b[1;33m \u001b[0mx\u001b[0m\u001b[1;33m.\u001b[0m\u001b[0mto\u001b[0m\u001b[1;33m(\u001b[0m\u001b[0mdevice\u001b[0m\u001b[1;33m)\u001b[0m\u001b[1;33m\u001b[0m\u001b[1;33m\u001b[0m\u001b[0m\n\u001b[0m",
      "\u001b[1;32m~\\anaconda3\\envs\\mlpractice\\lib\\site-packages\\torch\\cuda\\__init__.py\u001b[0m in \u001b[0;36m_lazy_init\u001b[1;34m()\u001b[0m\n\u001b[0;32m    168\u001b[0m         \u001b[1;31m# This function throws if there's a driver initialization error, no GPUs\u001b[0m\u001b[1;33m\u001b[0m\u001b[1;33m\u001b[0m\u001b[1;33m\u001b[0m\u001b[0m\n\u001b[0;32m    169\u001b[0m         \u001b[1;31m# are found or any other error occurs\u001b[0m\u001b[1;33m\u001b[0m\u001b[1;33m\u001b[0m\u001b[1;33m\u001b[0m\u001b[0m\n\u001b[1;32m--> 170\u001b[1;33m         \u001b[0mtorch\u001b[0m\u001b[1;33m.\u001b[0m\u001b[0m_C\u001b[0m\u001b[1;33m.\u001b[0m\u001b[0m_cuda_init\u001b[0m\u001b[1;33m(\u001b[0m\u001b[1;33m)\u001b[0m\u001b[1;33m\u001b[0m\u001b[1;33m\u001b[0m\u001b[0m\n\u001b[0m\u001b[0;32m    171\u001b[0m         \u001b[1;31m# Some of the queued calls may reentrantly call _lazy_init();\u001b[0m\u001b[1;33m\u001b[0m\u001b[1;33m\u001b[0m\u001b[1;33m\u001b[0m\u001b[0m\n\u001b[0;32m    172\u001b[0m         \u001b[1;31m# we need to just return without initializing in that case.\u001b[0m\u001b[1;33m\u001b[0m\u001b[1;33m\u001b[0m\u001b[1;33m\u001b[0m\u001b[0m\n",
      "\u001b[1;31mRuntimeError\u001b[0m: Found no NVIDIA driver on your system. Please check that you have an NVIDIA GPU and installed a driver from http://www.nvidia.com/Download/index.aspx"
     ]
    }
   ],
   "source": [
    "x.to(device)"
   ]
  },
  {
   "cell_type": "code",
   "execution_count": null,
   "metadata": {},
   "outputs": [],
   "source": []
  }
 ],
 "metadata": {
  "kernelspec": {
   "display_name": "Python 3",
   "language": "python",
   "name": "python3"
  },
  "language_info": {
   "codemirror_mode": {
    "name": "ipython",
    "version": 3
   },
   "file_extension": ".py",
   "mimetype": "text/x-python",
   "name": "python",
   "nbconvert_exporter": "python",
   "pygments_lexer": "ipython3",
   "version": "3.8.8"
  }
 },
 "nbformat": 4,
 "nbformat_minor": 2
}
