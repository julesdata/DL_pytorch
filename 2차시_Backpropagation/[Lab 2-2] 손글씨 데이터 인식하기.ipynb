{
 "cells": [
  {
   "cell_type": "code",
   "execution_count": 1,
   "metadata": {},
   "outputs": [],
   "source": [
    "import torch\n",
    "import torch.nn as nn\n",
    "import torchvision #파이토치 이미지 처리 사용 패키지\n",
    "import torchvision.transforms as transforms\n",
    "\n",
    "from matplotlib import pyplot as plt\n",
    "import numpy as np"
   ]
  },
  {
   "cell_type": "code",
   "execution_count": 2,
   "metadata": {},
   "outputs": [],
   "source": [
    "device = torch.device('cuda' if torch.cuda.is_available() else 'cpu')"
   ]
  },
  {
   "cell_type": "code",
   "execution_count": 3,
   "metadata": {},
   "outputs": [],
   "source": [
    "# GPU 있을때 예시\n",
    "# X = np.randn(3, 2)\n",
    "# X.to(device) : GPU로 보내는 함수"
   ]
  },
  {
   "cell_type": "code",
   "execution_count": 4,
   "metadata": {},
   "outputs": [],
   "source": [
    "input_size = 784 # 이미자 28x28 -> 784 \n",
    "hidden_size = 500\n",
    "num_classes = 10 #  0~9까지 숫자 10개\n",
    "num_epochs = 10 # 몇번 학습할 것인지\n",
    "batch_size = 32 # 전체 학습데이터를 쪼개서 학습\n",
    "learning_rate = 0.001 # gradient decsent 연산할 때 이동 step size"
   ]
  },
  {
   "cell_type": "code",
   "execution_count": 10,
   "metadata": {},
   "outputs": [
    {
     "name": "stdout",
     "output_type": "stream",
     "text": [
      "Downloading http://yann.lecun.com/exdb/mnist/train-images-idx3-ubyte.gz to ./MNIST/processed/MNIST\\raw\\train-images-idx3-ubyte.gz\n"
     ]
    },
    {
     "name": "stderr",
     "output_type": "stream",
     "text": [
      "100.0%\n"
     ]
    },
    {
     "name": "stdout",
     "output_type": "stream",
     "text": [
      "Extracting ./MNIST/processed/MNIST\\raw\\train-images-idx3-ubyte.gz to ./MNIST/processed/MNIST\\raw\n",
      "Downloading http://yann.lecun.com/exdb/mnist/train-labels-idx1-ubyte.gz to ./MNIST/processed/MNIST\\raw\\train-labels-idx1-ubyte.gz\n"
     ]
    },
    {
     "name": "stderr",
     "output_type": "stream",
     "text": [
      "102.8%\n"
     ]
    },
    {
     "name": "stdout",
     "output_type": "stream",
     "text": [
      "Extracting ./MNIST/processed/MNIST\\raw\\train-labels-idx1-ubyte.gz to ./MNIST/processed/MNIST\\raw\n",
      "Downloading http://yann.lecun.com/exdb/mnist/t10k-images-idx3-ubyte.gz to ./MNIST/processed/MNIST\\raw\\t10k-images-idx3-ubyte.gz\n"
     ]
    },
    {
     "name": "stderr",
     "output_type": "stream",
     "text": [
      "100.0%\n"
     ]
    },
    {
     "name": "stdout",
     "output_type": "stream",
     "text": [
      "Extracting ./MNIST/processed/MNIST\\raw\\t10k-images-idx3-ubyte.gz to ./MNIST/processed/MNIST\\raw\n",
      "Downloading http://yann.lecun.com/exdb/mnist/t10k-labels-idx1-ubyte.gz to ./MNIST/processed/MNIST\\raw\\t10k-labels-idx1-ubyte.gz\n"
     ]
    },
    {
     "name": "stderr",
     "output_type": "stream",
     "text": [
      "112.7%\n",
      "C:\\Users\\lhj90\\anaconda3\\envs\\mlpractice\\lib\\site-packages\\torchvision\\datasets\\mnist.py:479: UserWarning: The given NumPy array is not writeable, and PyTorch does not support non-writeable tensors. This means you can write to the underlying (supposedly non-writeable) NumPy array using the tensor. You may want to copy the array to protect its data or make it writeable before converting it to a tensor. This type of warning will be suppressed for the rest of this program. (Triggered internally at  ..\\torch\\csrc\\utils\\tensor_numpy.cpp:143.)\n",
      "  return torch.from_numpy(parsed.astype(m[2], copy=False)).view(*s)\n"
     ]
    },
    {
     "name": "stdout",
     "output_type": "stream",
     "text": [
      "Extracting ./MNIST/processed/MNIST\\raw\\t10k-labels-idx1-ubyte.gz to ./MNIST/processed/MNIST\\raw\n",
      "Processing...\n",
      "Done!\n"
     ]
    }
   ],
   "source": [
    "train_dataset = torchvision.datasets.MNIST(root='./MNIST/processed/',\n",
    "                                          train = True,\n",
    "                                          transform = transforms.ToTensor(),\n",
    "                                          download=True)"
   ]
  },
  {
   "cell_type": "code",
   "execution_count": 13,
   "metadata": {},
   "outputs": [
    {
     "data": {
      "text/plain": [
       "60000"
      ]
     },
     "execution_count": 13,
     "metadata": {},
     "output_type": "execute_result"
    }
   ],
   "source": [
    "len(train_dataset)"
   ]
  },
  {
   "cell_type": "code",
   "execution_count": 11,
   "metadata": {},
   "outputs": [],
   "source": [
    "test_dataset = torchvision.datasets.MNIST(root='./MNIST/processed/',\n",
    "                                          train = False,\n",
    "                                          transform = transforms.ToTensor(),\n",
    "                                          download=True)"
   ]
  },
  {
   "cell_type": "code",
   "execution_count": 14,
   "metadata": {},
   "outputs": [
    {
     "data": {
      "text/plain": [
       "10000"
      ]
     },
     "execution_count": 14,
     "metadata": {},
     "output_type": "execute_result"
    }
   ],
   "source": [
    "len(test_dataset)"
   ]
  },
  {
   "cell_type": "code",
   "execution_count": null,
   "metadata": {},
   "outputs": [],
   "source": [
    "'''\n",
    "train_dataset = torchvision.datasets.MNIST(root='../../data', \n",
    "                                           train=True, \n",
    "                                           transform=transforms.ToTensor(),  \n",
    "                                           download=True)\n",
    "\n",
    "test_dataset = torchvision.datasets.MNIST(root='../../data', \n",
    "                                          train=False, \n",
    "                                          transform=transforms.ToTensor())\n",
    "'''"
   ]
  },
  {
   "cell_type": "code",
   "execution_count": 15,
   "metadata": {},
   "outputs": [
    {
     "data": {
      "image/png": "[encoded data removed]",
      "text/plain": [
       "<Figure size 432x288 with 10 Axes>"
      ]
     },
     "metadata": {},
     "output_type": "display_data"
    }
   ],
   "source": [
    "fig = plt.figure()\n",
    " \n",
    "for i in range(10):\n",
    "    # 2x5 그리드에 i+1번째 subplot을 추가하고 얻어옴\n",
    "    subplot = fig.add_subplot(2, 5, i + 1)\n",
    "\n",
    "    # x, y 축의 지점 표시를 안함\n",
    "    subplot.set_xticks([])\n",
    "    subplot.set_yticks([])\n",
    "\n",
    "    # subplot의 제목을 i번째 결과에 해당하는 숫자로 설정\n",
    "    subplot.set_title('%d' % train_dataset[i][1])\n",
    "\n",
    "    # 입력으로 사용한 i번째 테스트 이미지를 28x28로 재배열하고\n",
    "    # 이 2차원 배열을 그레이스케일 이미지로 출력\n",
    "    subplot.imshow(train_dataset[i][0].squeeze().numpy(), cmap='gray')\n",
    "\n",
    "plt.show()"
   ]
  },
  {
   "cell_type": "code",
   "execution_count": 16,
   "metadata": {},
   "outputs": [],
   "source": [
    "# Data loader: batch단위로 model에 데이터를 공급해줘\n",
    "\n",
    "train_loader = torch.utils.data.DataLoader(dataset=train_dataset, \n",
    "                                           batch_size=batch_size, \n",
    "                                           shuffle=True) #shuffle 데이터를 섞어줘\n",
    "\n",
    "test_loader = torch.utils.data.DataLoader(dataset=test_dataset, \n",
    "                                          batch_size=batch_size, \n",
    "                                          shuffle=False)"
   ]
  },
  {
   "cell_type": "code",
   "execution_count": 17,
   "metadata": {},
   "outputs": [],
   "source": [
    "class NeuralNet(nn.Module):\n",
    "    def __init__(self, input_size, hidden_size, num_classes):\n",
    "        super(NeuralNet, self).__init__()\n",
    "        self.fc1 = nn.Linear(input_size, hidden_size) #inputsize : 784 (28*28의 선형화) # hidden = 500 (자기맘대로 지정..)\n",
    "        self.fc2 = nn.Linear(hidden_size, hidden_size)\n",
    "        self.fc3 = nn.Linear(hidden_size, num_classes)  \n",
    "        self.relu = nn.ReLU()\n",
    "        \n",
    "    def forward(self, x):\n",
    "        out = self.relu(self.fc1(x))  # 784 -> 500\n",
    "        out = self.relu(self.fc2(out)) # 여기까지가 feature extractor  500 -> 500\n",
    "        out = self.fc3(out) #0~9 10dim #여기서 classification\n",
    "        return out\n",
    "\n",
    "model = NeuralNet(input_size, hidden_size, num_classes).to(device)"
   ]
  },
  {
   "cell_type": "code",
   "execution_count": 18,
   "metadata": {},
   "outputs": [
    {
     "data": {
      "text/plain": [
       "NeuralNet(\n",
       "  (fc1): Linear(in_features=784, out_features=500, bias=True)\n",
       "  (fc2): Linear(in_features=500, out_features=500, bias=True)\n",
       "  (fc3): Linear(in_features=500, out_features=10, bias=True)\n",
       "  (relu): ReLU()\n",
       ")"
      ]
     },
     "execution_count": 18,
     "metadata": {},
     "output_type": "execute_result"
    }
   ],
   "source": [
    "model"
   ]
  },
  {
   "cell_type": "code",
   "execution_count": 19,
   "metadata": {},
   "outputs": [],
   "source": [
    "criterion = nn.CrossEntropyLoss() #softmax가 들어있음\n",
    "optimizer = torch.optim.SGD(model.parameters(), lr=learning_rate)  "
   ]
  },
  {
   "cell_type": "code",
   "execution_count": 20,
   "metadata": {},
   "outputs": [
    {
     "name": "stdout",
     "output_type": "stream",
     "text": [
      "Epoch [1/10], Loss: 2.2587\n",
      "Accuracy of the network on the test images: 46.12 %\n",
      "Epoch [2/10], Loss: 2.0826\n",
      "Accuracy of the network on the test images: 63.82 %\n",
      "Epoch [3/10], Loss: 1.6384\n",
      "Accuracy of the network on the test images: 73.93 %\n",
      "Epoch [4/10], Loss: 1.0828\n",
      "Accuracy of the network on the test images: 80.94 %\n",
      "Epoch [5/10], Loss: 0.7709\n",
      "Accuracy of the network on the test images: 83.98 %\n",
      "Epoch [6/10], Loss: 0.6198\n",
      "Accuracy of the network on the test images: 85.98 %\n",
      "Epoch [7/10], Loss: 0.5354\n",
      "Accuracy of the network on the test images: 87.3 %\n",
      "Epoch [8/10], Loss: 0.4820\n",
      "Accuracy of the network on the test images: 88.16 %\n",
      "Epoch [9/10], Loss: 0.4453\n",
      "Accuracy of the network on the test images: 88.69 %\n",
      "Epoch [10/10], Loss: 0.4184\n",
      "Accuracy of the network on the test images: 89.19 %\n"
     ]
    }
   ],
   "source": [
    "# Train the model\n",
    "for epoch in range(num_epochs):\n",
    "    train_loss = []\n",
    "    model.train()\n",
    "    for i, (images, labels) in enumerate(train_loader): # i : step  \n",
    "        # Move tensors to the configured device\n",
    "        images = images.reshape(-1, 28*28).to(device)\n",
    "        labels = labels.to(device)\n",
    "        \n",
    "        # Forward pass\n",
    "        outputs = model(images)\n",
    "        loss = criterion(outputs, labels)\n",
    "        \n",
    "        # Backward and optimize\n",
    "        optimizer.zero_grad()\n",
    "       \n",
    "        loss.backward()\n",
    "       \n",
    "        optimizer.step()\n",
    "        train_loss.append(loss.item())\n",
    "    \n",
    "    print ('Epoch [{}/{}], Loss: {:.4f}' \n",
    "           .format(epoch+1, num_epochs, sum(train_loss)/len(train_loss)))\n",
    "    \n",
    "    model.eval()\n",
    "    with torch.no_grad():\n",
    "        correct = 0\n",
    "        total = 0\n",
    "        for images, labels in test_loader:\n",
    "            images = images.reshape(-1, 28*28).to(device)\n",
    "            labels = labels.to(device)\n",
    "            outputs = model(images) # [batch, 10(확률값 어떤것이 가장 큰 확률을 가지냐)]\n",
    "            _, predicted = torch.max(outputs.data, 1)\n",
    "            total += labels.size(0)\n",
    "            correct += (predicted == labels).sum().item()\n",
    "\n",
    "        print('Accuracy of the network on the test images: {} %'.format(100 * correct / total))"
   ]
  },
  {
   "cell_type": "code",
   "execution_count": 21,
   "metadata": {},
   "outputs": [],
   "source": [
    "#어떤 이미지를 못맞췄는지\n",
    "bad_prediction = []\n",
    "with torch.no_grad():\n",
    "    for images, labels in test_loader:\n",
    "        images = images.reshape(-1, 28*28).to(device)\n",
    "        labels = labels.to(device)\n",
    "        outputs = model(images)\n",
    "        _, predicted = torch.max(outputs.data, 1)\n",
    "        for i in range(len(predicted)):\n",
    "            if predicted[i] != labels[i]:\n",
    "                bad_prediction.append([images[i].detach().cpu().numpy(), predicted[i].detach().cpu(), labels[i].detach().cpu()])"
   ]
  },
  {
   "cell_type": "code",
   "execution_count": 22,
   "metadata": {},
   "outputs": [
    {
     "data": {
      "image/png": "[encoded data removed]",
      "text/plain": [
       "<Figure size 432x288 with 10 Axes>"
      ]
     },
     "metadata": {},
     "output_type": "display_data"
    }
   ],
   "source": [
    "fig = plt.figure()\n",
    " \n",
    "for i in range(10):\n",
    "    # 2x5 그리드에 i+1번째 subplot을 추가하고 얻어옴\n",
    "    subplot = fig.add_subplot(2, 5, i + 1)\n",
    "\n",
    "    # x, y 축의 지점 표시를 안함\n",
    "    subplot.set_xticks([])\n",
    "    subplot.set_yticks([])\n",
    "\n",
    "    # subplot의 제목을 i번째 결과에 해당하는 숫자로 설정\n",
    "    subplot.set_title(f'{bad_prediction[i][1]}, {bad_prediction[i][2]}')\n",
    "\n",
    "    # 입력으로 사용한 i번째 테스트 이미지를 28x28로 재배열하고\n",
    "    # 이 2차원 배열을 그레이스케일 이미지로 출력\n",
    "    subplot.imshow(bad_prediction[i][0].reshape(28, 28), cmap='gray')\n",
    "\n",
    "plt.show()"
   ]
  },
  {
   "cell_type": "code",
   "execution_count": null,
   "metadata": {},
   "outputs": [],
   "source": []
  }
 ],
 "metadata": {
  "kernelspec": {
   "display_name": "Python 3",
   "language": "python",
   "name": "python3"
  },
  "language_info": {
   "codemirror_mode": {
    "name": "ipython",
    "version": 3
   },
   "file_extension": ".py",
   "mimetype": "text/x-python",
   "name": "python",
   "nbconvert_exporter": "python",
   "pygments_lexer": "ipython3",
   "version": "3.8.8"
  }
 },
 "nbformat": 4,
 "nbformat_minor": 2
}
